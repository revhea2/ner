{
 "cells": [
  {
   "cell_type": "code",
   "execution_count": 1,
   "id": "61e9ff3b",
   "metadata": {},
   "outputs": [],
   "source": [
    "import nltk\n",
    "import pandas as pd\n",
    "from nltk import pos_tag\n",
    "from nltk import ne_chunk\n",
    "from nltk.tokenize import word_tokenize\n"
   ]
  },
  {
   "cell_type": "code",
   "execution_count": 2,
   "id": "52f887e4",
   "metadata": {},
   "outputs": [],
   "source": [
    "text = \"\"\"\n",
    "    In 1995 he joined the Computer Science Department at Carnegie Mellon University (CMU) as a research computer scientist. In 1998 he became an assistant professor and co-director of the Robot Learning Laboratory at CMU. As a faculty member at CMU, he co-founded the Master's Program in Automated Learning and Discovery, which later would become a Ph.D. program in the broad area of machine learning and scientific discovery. In 2001 Thrun spent a sabbatical year at Stanford University. He returned to CMU to an endowed professorship, the Finmeccanica Associate Professor of Computer Science and Robotics.\n",
    "\"\"\"\n",
    "words = word_tokenize(text)\n",
    "pt_words = pos_tag(words)"
   ]
  },
  {
   "cell_type": "code",
   "execution_count": 3,
   "id": "4239e50e",
   "metadata": {},
   "outputs": [
    {
     "name": "stdout",
     "output_type": "stream",
     "text": [
      "('In', 'IN')\n",
      "('1995', 'CD')\n",
      "('he', 'PRP')\n",
      "('joined', 'VBD')\n",
      "('the', 'DT')\n",
      "(NE Computer/NNP Science/NNP Department/NNP)\n",
      "('at', 'IN')\n",
      "(NE Carnegie/NNP Mellon/NNP University/NNP)\n",
      "('(', '(')\n",
      "(NE CMU/NNP)\n",
      "(')', ')')\n",
      "('as', 'IN')\n",
      "('a', 'DT')\n",
      "('research', 'NN')\n",
      "('computer', 'NN')\n",
      "('scientist', 'NN')\n",
      "('.', '.')\n",
      "('In', 'IN')\n",
      "('1998', 'CD')\n",
      "('he', 'PRP')\n",
      "('became', 'VBD')\n",
      "('an', 'DT')\n",
      "('assistant', 'NN')\n",
      "('professor', 'NN')\n",
      "('and', 'CC')\n",
      "('co-director', 'NN')\n",
      "('of', 'IN')\n",
      "('the', 'DT')\n",
      "(NE Robot/NNP Learning/NNP Laboratory/NNP)\n",
      "('at', 'IN')\n",
      "(NE CMU/NNP)\n",
      "('.', '.')\n",
      "('As', 'IN')\n",
      "('a', 'DT')\n",
      "('faculty', 'NN')\n",
      "('member', 'NN')\n",
      "('at', 'IN')\n",
      "(NE CMU/NNP)\n",
      "(',', ',')\n",
      "('he', 'PRP')\n",
      "('co-founded', 'VBD')\n",
      "('the', 'DT')\n",
      "(NE Master/NNP)\n",
      "(\"'s\", 'POS')\n",
      "('Program', 'NNP')\n",
      "('in', 'IN')\n",
      "(NE Automated/NNP Learning/NNP)\n",
      "('and', 'CC')\n",
      "(NE Discovery/NNP)\n",
      "(',', ',')\n",
      "('which', 'WDT')\n",
      "('later', 'RB')\n",
      "('would', 'MD')\n",
      "('become', 'VB')\n",
      "('a', 'DT')\n",
      "('Ph.D.', 'NNP')\n",
      "('program', 'NN')\n",
      "('in', 'IN')\n",
      "('the', 'DT')\n",
      "('broad', 'JJ')\n",
      "('area', 'NN')\n",
      "('of', 'IN')\n",
      "('machine', 'NN')\n",
      "('learning', 'NN')\n",
      "('and', 'CC')\n",
      "('scientific', 'JJ')\n",
      "('discovery', 'NN')\n",
      "('.', '.')\n",
      "('In', 'IN')\n",
      "('2001', 'CD')\n",
      "('Thrun', 'NNP')\n",
      "('spent', 'VBD')\n",
      "('a', 'DT')\n",
      "('sabbatical', 'JJ')\n",
      "('year', 'NN')\n",
      "('at', 'IN')\n",
      "(NE Stanford/NNP University/NNP)\n",
      "('.', '.')\n",
      "('He', 'PRP')\n",
      "('returned', 'VBD')\n",
      "('to', 'TO')\n",
      "(NE CMU/NNP)\n",
      "('to', 'TO')\n",
      "('an', 'DT')\n",
      "('endowed', 'VBN')\n",
      "('professorship', 'NN')\n",
      "(',', ',')\n",
      "('the', 'DT')\n",
      "(NE Finmeccanica/NNP Associate/NNP Professor/NNP)\n",
      "('of', 'IN')\n",
      "(NE Computer/NNP Science/NNP)\n",
      "('and', 'CC')\n",
      "('Robotics', 'NNPS')\n",
      "('.', '.')\n"
     ]
    }
   ],
   "source": [
    "chunks = ne_chunk(pt_words, binary=True)\n",
    "\n",
    "\n",
    "for chunk in chunks:\n",
    "    print(chunk)"
   ]
  },
  {
   "cell_type": "code",
   "execution_count": 4,
   "id": "308c8085",
   "metadata": {},
   "outputs": [
    {
     "data": {
      "text/plain": "                           Entities Labels\n0                               CMU     NE\n1        Carnegie Mellon University     NE\n2                  Computer Science     NE\n3                         Discovery     NE\n4  Finmeccanica Associate Professor     NE\n5         Robot Learning Laboratory     NE\n6               Stanford University     NE\n7                            Master     NE\n8                Automated Learning     NE\n9       Computer Science Department     NE",
      "text/html": "<div>\n<style scoped>\n    .dataframe tbody tr th:only-of-type {\n        vertical-align: middle;\n    }\n\n    .dataframe tbody tr th {\n        vertical-align: top;\n    }\n\n    .dataframe thead th {\n        text-align: right;\n    }\n</style>\n<table border=\"1\" class=\"dataframe\">\n  <thead>\n    <tr style=\"text-align: right;\">\n      <th></th>\n      <th>Entities</th>\n      <th>Labels</th>\n    </tr>\n  </thead>\n  <tbody>\n    <tr>\n      <th>0</th>\n      <td>CMU</td>\n      <td>NE</td>\n    </tr>\n    <tr>\n      <th>1</th>\n      <td>Carnegie Mellon University</td>\n      <td>NE</td>\n    </tr>\n    <tr>\n      <th>2</th>\n      <td>Computer Science</td>\n      <td>NE</td>\n    </tr>\n    <tr>\n      <th>3</th>\n      <td>Discovery</td>\n      <td>NE</td>\n    </tr>\n    <tr>\n      <th>4</th>\n      <td>Finmeccanica Associate Professor</td>\n      <td>NE</td>\n    </tr>\n    <tr>\n      <th>5</th>\n      <td>Robot Learning Laboratory</td>\n      <td>NE</td>\n    </tr>\n    <tr>\n      <th>6</th>\n      <td>Stanford University</td>\n      <td>NE</td>\n    </tr>\n    <tr>\n      <th>7</th>\n      <td>Master</td>\n      <td>NE</td>\n    </tr>\n    <tr>\n      <th>8</th>\n      <td>Automated Learning</td>\n      <td>NE</td>\n    </tr>\n    <tr>\n      <th>9</th>\n      <td>Computer Science Department</td>\n      <td>NE</td>\n    </tr>\n  </tbody>\n</table>\n</div>"
     },
     "execution_count": 4,
     "metadata": {},
     "output_type": "execute_result"
    }
   ],
   "source": [
    "entities = []\n",
    "labels = []\n",
    "\n",
    "for chunk in chunks:\n",
    "    if hasattr(chunk, 'label'):\n",
    "        entities.append(' '.join(c[0] for c in chunk))\n",
    "        labels.append(chunk.label())\n",
    "entities_labels = list(set(zip(entities, labels)))\n",
    "entities_df = pd.DataFrame(entities_labels)\n",
    "entities_df.columns = [\"Entities\", \"Labels\"]\n",
    "entities_df"
   ]
  },
  {
   "cell_type": "code",
   "execution_count": 5,
   "id": "65eb44e6",
   "metadata": {},
   "outputs": [
    {
     "data": {
      "text/plain": "                       Entities        Labels\n0    Carnegie Mellon University  ORGANIZATION\n1              Computer Science  ORGANIZATION\n2                      Robotics        PERSON\n3                         Robot  ORGANIZATION\n4           Stanford University  ORGANIZATION\n5        Finmeccanica Associate  ORGANIZATION\n6                     Discovery        PERSON\n7                     Automated           GPE\n8   Computer Science Department  ORGANIZATION\n9                        Master  ORGANIZATION\n10                          CMU  ORGANIZATION",
      "text/html": "<div>\n<style scoped>\n    .dataframe tbody tr th:only-of-type {\n        vertical-align: middle;\n    }\n\n    .dataframe tbody tr th {\n        vertical-align: top;\n    }\n\n    .dataframe thead th {\n        text-align: right;\n    }\n</style>\n<table border=\"1\" class=\"dataframe\">\n  <thead>\n    <tr style=\"text-align: right;\">\n      <th></th>\n      <th>Entities</th>\n      <th>Labels</th>\n    </tr>\n  </thead>\n  <tbody>\n    <tr>\n      <th>0</th>\n      <td>Carnegie Mellon University</td>\n      <td>ORGANIZATION</td>\n    </tr>\n    <tr>\n      <th>1</th>\n      <td>Computer Science</td>\n      <td>ORGANIZATION</td>\n    </tr>\n    <tr>\n      <th>2</th>\n      <td>Robotics</td>\n      <td>PERSON</td>\n    </tr>\n    <tr>\n      <th>3</th>\n      <td>Robot</td>\n      <td>ORGANIZATION</td>\n    </tr>\n    <tr>\n      <th>4</th>\n      <td>Stanford University</td>\n      <td>ORGANIZATION</td>\n    </tr>\n    <tr>\n      <th>5</th>\n      <td>Finmeccanica Associate</td>\n      <td>ORGANIZATION</td>\n    </tr>\n    <tr>\n      <th>6</th>\n      <td>Discovery</td>\n      <td>PERSON</td>\n    </tr>\n    <tr>\n      <th>7</th>\n      <td>Automated</td>\n      <td>GPE</td>\n    </tr>\n    <tr>\n      <th>8</th>\n      <td>Computer Science Department</td>\n      <td>ORGANIZATION</td>\n    </tr>\n    <tr>\n      <th>9</th>\n      <td>Master</td>\n      <td>ORGANIZATION</td>\n    </tr>\n    <tr>\n      <th>10</th>\n      <td>CMU</td>\n      <td>ORGANIZATION</td>\n    </tr>\n  </tbody>\n</table>\n</div>"
     },
     "execution_count": 5,
     "metadata": {},
     "output_type": "execute_result"
    }
   ],
   "source": [
    "entities = []\n",
    "labels = []\n",
    "\n",
    "sentence = nltk.sent_tokenize(text)\n",
    "\n",
    "for sent in sentence:\n",
    "    for chunk in ne_chunk(pos_tag(word_tokenize(sent)), binary=False):\n",
    "        if hasattr(chunk, \"label\"):\n",
    "            entities.append(' '.join(c[0] for c in chunk))\n",
    "            labels.append(chunk.label())\n",
    "\n",
    "entities_labels = list(set(zip(entities, labels)))\n",
    "entities_df = pd.DataFrame(entities_labels)\n",
    "entities_df.columns = [\"Entities\", \"Labels\"]\n",
    "entities_df"
   ]
  },
  {
   "cell_type": "code",
   "execution_count": 6,
   "id": "1732b669",
   "metadata": {},
   "outputs": [],
   "source": [
    "import spacy\n",
    "from spacy import displacy"
   ]
  },
  {
   "cell_type": "code",
   "execution_count": 7,
   "id": "16369675",
   "metadata": {},
   "outputs": [],
   "source": [
    "nlp = spacy.load(\"en_core_web_sm\")"
   ]
  },
  {
   "cell_type": "code",
   "execution_count": 8,
   "id": "58dec3ae",
   "metadata": {},
   "outputs": [
    {
     "data": {
      "text/plain": "                                Entities       Labels  Position Start  \\\n0                                 (1995)         DATE               8   \n1   (the, Computer, Science, Department)          ORG              23   \n2         (Carnegie, Mellon, University)          ORG              58   \n3                                 (1998)         DATE             128   \n4     (the, Robot, Learning, Laboratory)          ORG             185   \n5                                  (CMU)          ORG             218   \n6                                  (CMU)          ORG             246   \n7             (the, Master, 's, Program)          ORG             265   \n8                  (Automated, Learning)          GPE             289   \n9                            (Discovery)      PRODUCT             312   \n10                               (Ph.D.)  WORK_OF_ART             350   \n11                                (2001)         DATE             431   \n12                 (a, sabbatical, year)         DATE             448   \n13                (Stanford, University)          ORG             469   \n14                                 (CMU)          ORG             505   \n\n    Position End  \n0             12  \n1             54  \n2             84  \n3            132  \n4            214  \n5            221  \n6            249  \n7            285  \n8            307  \n9            321  \n10           355  \n11           435  \n12           465  \n13           488  \n14           508  ",
      "text/html": "<div>\n<style scoped>\n    .dataframe tbody tr th:only-of-type {\n        vertical-align: middle;\n    }\n\n    .dataframe tbody tr th {\n        vertical-align: top;\n    }\n\n    .dataframe thead th {\n        text-align: right;\n    }\n</style>\n<table border=\"1\" class=\"dataframe\">\n  <thead>\n    <tr style=\"text-align: right;\">\n      <th></th>\n      <th>Entities</th>\n      <th>Labels</th>\n      <th>Position Start</th>\n      <th>Position End</th>\n    </tr>\n  </thead>\n  <tbody>\n    <tr>\n      <th>0</th>\n      <td>(1995)</td>\n      <td>DATE</td>\n      <td>8</td>\n      <td>12</td>\n    </tr>\n    <tr>\n      <th>1</th>\n      <td>(the, Computer, Science, Department)</td>\n      <td>ORG</td>\n      <td>23</td>\n      <td>54</td>\n    </tr>\n    <tr>\n      <th>2</th>\n      <td>(Carnegie, Mellon, University)</td>\n      <td>ORG</td>\n      <td>58</td>\n      <td>84</td>\n    </tr>\n    <tr>\n      <th>3</th>\n      <td>(1998)</td>\n      <td>DATE</td>\n      <td>128</td>\n      <td>132</td>\n    </tr>\n    <tr>\n      <th>4</th>\n      <td>(the, Robot, Learning, Laboratory)</td>\n      <td>ORG</td>\n      <td>185</td>\n      <td>214</td>\n    </tr>\n    <tr>\n      <th>5</th>\n      <td>(CMU)</td>\n      <td>ORG</td>\n      <td>218</td>\n      <td>221</td>\n    </tr>\n    <tr>\n      <th>6</th>\n      <td>(CMU)</td>\n      <td>ORG</td>\n      <td>246</td>\n      <td>249</td>\n    </tr>\n    <tr>\n      <th>7</th>\n      <td>(the, Master, 's, Program)</td>\n      <td>ORG</td>\n      <td>265</td>\n      <td>285</td>\n    </tr>\n    <tr>\n      <th>8</th>\n      <td>(Automated, Learning)</td>\n      <td>GPE</td>\n      <td>289</td>\n      <td>307</td>\n    </tr>\n    <tr>\n      <th>9</th>\n      <td>(Discovery)</td>\n      <td>PRODUCT</td>\n      <td>312</td>\n      <td>321</td>\n    </tr>\n    <tr>\n      <th>10</th>\n      <td>(Ph.D.)</td>\n      <td>WORK_OF_ART</td>\n      <td>350</td>\n      <td>355</td>\n    </tr>\n    <tr>\n      <th>11</th>\n      <td>(2001)</td>\n      <td>DATE</td>\n      <td>431</td>\n      <td>435</td>\n    </tr>\n    <tr>\n      <th>12</th>\n      <td>(a, sabbatical, year)</td>\n      <td>DATE</td>\n      <td>448</td>\n      <td>465</td>\n    </tr>\n    <tr>\n      <th>13</th>\n      <td>(Stanford, University)</td>\n      <td>ORG</td>\n      <td>469</td>\n      <td>488</td>\n    </tr>\n    <tr>\n      <th>14</th>\n      <td>(CMU)</td>\n      <td>ORG</td>\n      <td>505</td>\n      <td>508</td>\n    </tr>\n  </tbody>\n</table>\n</div>"
     },
     "execution_count": 8,
     "metadata": {},
     "output_type": "execute_result"
    }
   ],
   "source": [
    "doc = nlp(text)\n",
    "doc.ents\n",
    "entities = []\n",
    "labels = []\n",
    "\n",
    "position_start = []\n",
    "position_end = []\n",
    "\n",
    "for ent in doc.ents:\n",
    "    entities.append(ent)\n",
    "    labels.append(ent.label_)\n",
    "    position_start.append(ent.start_char)\n",
    "    position_end.append(ent.end_char)\n",
    "\n",
    "df = pd.DataFrame({'Entities': entities, 'Labels': labels, 'Position Start': position_start, 'Position End': position_end})\n",
    "df"
   ]
  },
  {
   "cell_type": "code",
   "execution_count": 9,
   "id": "35534571",
   "metadata": {},
   "outputs": [
    {
     "data": {
      "text/plain": "'Countries, cities, states'"
     },
     "execution_count": 9,
     "metadata": {},
     "output_type": "execute_result"
    }
   ],
   "source": [
    "spacy.explain('GPE')"
   ]
  },
  {
   "cell_type": "code",
   "execution_count": 9,
   "id": "a14973da",
   "metadata": {},
   "outputs": [],
   "source": []
  },
  {
   "cell_type": "code",
   "execution_count": 9,
   "id": "5581c9ec",
   "metadata": {},
   "outputs": [],
   "source": []
  }
 ],
 "metadata": {
  "kernelspec": {
   "display_name": "Python 3",
   "language": "python",
   "name": "python3"
  },
  "language_info": {
   "codemirror_mode": {
    "name": "ipython",
    "version": 3
   },
   "file_extension": ".py",
   "mimetype": "text/x-python",
   "name": "python",
   "nbconvert_exporter": "python",
   "pygments_lexer": "ipython3",
   "version": "3.8.8"
  }
 },
 "nbformat": 4,
 "nbformat_minor": 5
}